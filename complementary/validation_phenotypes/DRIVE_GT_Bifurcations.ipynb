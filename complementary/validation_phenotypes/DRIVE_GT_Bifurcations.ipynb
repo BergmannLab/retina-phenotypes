{
 "cells": [
  {
   "cell_type": "markdown",
   "metadata": {},
   "source": [
    "# DRIVE Ground Truth Bifurcations"
   ]
  },
  {
   "cell_type": "code",
   "execution_count": 4,
   "metadata": {},
   "outputs": [],
   "source": [
    "import pandas as pd\n",
    "import numpy as np\n",
    "import matplotlib.pyplot as plt\n",
    "import scikitplot as skplt\n",
    "import matplotlib.image as mpimg\n",
    "import pickle5 as pickle\n",
    "import glob\n",
    "import csv\n",
    "import os"
   ]
  },
  {
   "cell_type": "code",
   "execution_count": 5,
   "metadata": {},
   "outputs": [],
   "source": [
    "# Location of the DRIVE images:\n",
    "dir_images='~/retina-phenotypes/input/DRIVE/DRIVE/'\n",
    "# Location of the vessels output:\n",
    "dir_ARIA_output='~/retina-phenotypes/output/DRIVE/ARIA_output/'\n",
    "# Location of the DRIVE Ground Truth:\n",
    "dir_GT_bif ='/HDD/data/Other_datasets/DRIVE/RetinalFeatures_bif_cross/'\n",
    "# Location of our DRIVE bifurcations:\n",
    "dir_bif ='~/retina-phenotypes/output/DRIVE/phenotypes_all/bifurcations_position/'"
   ]
  },
  {
   "cell_type": "code",
   "execution_count": 6,
   "metadata": {},
   "outputs": [
    {
     "ename": "FileNotFoundError",
     "evalue": "[Errno 2] No such file or directory: '~/retina-phenotypes/input/DRIVE/DRIVE/'",
     "output_type": "error",
     "traceback": [
      "\u001b[0;31m---------------------------------------------------------------------------\u001b[0m",
      "\u001b[0;31mFileNotFoundError\u001b[0m                         Traceback (most recent call last)",
      "\u001b[0;32m<ipython-input-6-2b0767077753>\u001b[0m in \u001b[0;36m<module>\u001b[0;34m\u001b[0m\n\u001b[0;32m----> 1\u001b[0;31m \u001b[0mos\u001b[0m\u001b[0;34m.\u001b[0m\u001b[0mchdir\u001b[0m\u001b[0;34m(\u001b[0m\u001b[0mdir_images\u001b[0m\u001b[0;34m)\u001b[0m\u001b[0;34m\u001b[0m\u001b[0;34m\u001b[0m\u001b[0m\n\u001b[0m\u001b[1;32m      2\u001b[0m \u001b[0;34m\u001b[0m\u001b[0m\n\u001b[1;32m      3\u001b[0m \u001b[0;32mfor\u001b[0m \u001b[0mimg\u001b[0m \u001b[0;32min\u001b[0m \u001b[0mglob\u001b[0m\u001b[0;34m.\u001b[0m\u001b[0mglob\u001b[0m\u001b[0;34m(\u001b[0m\u001b[0;34m\"*.png\"\u001b[0m\u001b[0;34m)\u001b[0m\u001b[0;34m:\u001b[0m\u001b[0;34m\u001b[0m\u001b[0;34m\u001b[0m\u001b[0m\n\u001b[1;32m      4\u001b[0m     \u001b[0;32mtry\u001b[0m\u001b[0;34m:\u001b[0m\u001b[0;34m\u001b[0m\u001b[0;34m\u001b[0m\u001b[0m\n\u001b[1;32m      5\u001b[0m         \u001b[0mimageID\u001b[0m \u001b[0;34m=\u001b[0m \u001b[0mos\u001b[0m\u001b[0;34m.\u001b[0m\u001b[0mpath\u001b[0m\u001b[0;34m.\u001b[0m\u001b[0msplitext\u001b[0m\u001b[0;34m(\u001b[0m\u001b[0mimg\u001b[0m\u001b[0;34m)\u001b[0m\u001b[0;34m[\u001b[0m\u001b[0;36m0\u001b[0m\u001b[0;34m]\u001b[0m\u001b[0;34m\u001b[0m\u001b[0;34m\u001b[0m\u001b[0m\n",
      "\u001b[0;31mFileNotFoundError\u001b[0m: [Errno 2] No such file or directory: '~/retina-phenotypes/input/DRIVE/DRIVE/'"
     ]
    }
   ],
   "source": [
    "os.chdir(dir_images) \n",
    "\n",
    "for img in glob.glob(\"*.png\"):\n",
    "    try:\n",
    "        imageID = os.path.splitext(img)[0]\n",
    "        num=imageID.split(\"_\")[0]\n",
    "        \n",
    "        fig2 = plt.figure(figsize = (5,5)) # create a 5 x 5 figure \n",
    "        ax3 = fig2.add_subplot(111)\n",
    "        ax3.imshow(mpimg.imread(img), interpolation='none')\n",
    "        \n",
    "        X = []\n",
    "        Y = []\n",
    "        segmentStats = []\n",
    "        with open(dir_ARIA_output+ imageID + \"_all_center2Coordinates.tsv\") as fd:\n",
    "            rd = csv.reader(fd, delimiter='\\t')\n",
    "            X.extend([float(j) for j in row] for row in rd)\n",
    "        with open(dir_ARIA_output+ imageID + \"_all_center1Coordinates.tsv\") as fd:\n",
    "            rd = csv.reader(fd, delimiter='\\t')\n",
    "            Y.extend([float(j) for j in row] for row in rd)\n",
    "        with open(dir_ARIA_output+ imageID + \"_all_segmentStats.tsv\") as fd:\n",
    "            rd = pd.read_csv(fd, sep='\\t')\n",
    "            segmentStats = rd[\"AVScore\"]\n",
    "\n",
    "        df = pd.DataFrame([])\n",
    "        df[\"segmentStats\"] = segmentStats\n",
    "\n",
    "        df_results = pd.DataFrame([])\n",
    "        df_aux = pd.DataFrame([])\n",
    "        aux = int(df.count(axis=0))\n",
    "\n",
    "        # 'Arteries' if df['AVScore'] > 0 and 'Veins' if df['AVScore'] < 0\n",
    "        for i in range(aux):\n",
    "            df_aux = pd.DataFrame(X[i])\n",
    "            df_aux[\"Y\"] = pd.DataFrame(Y[i])\n",
    "            df_aux[\"type\"] = segmentStats[i]\n",
    "            df_aux[\"i\"] = i\n",
    "            df_results = df_results.append(df_aux, True)\n",
    "\n",
    "        df_results.columns = ['X', 'Y', 'type', 'i']\n",
    "        df_results['type'] = np.sign(df_results['type'])\n",
    "\n",
    "        plt.scatter(x=df_results['X'], y=df_results['Y'], c=df_results['type'], cmap=\"jet\", marker=\"d\",\n",
    "        alpha=0.5, s= 0.2)\n",
    "\n",
    "        data = pd.read_table(dir_GT_bif + num + '_manual1_gt.txt', delimiter = ',', header=None)\n",
    "        data.columns = ['X', 'Y']\n",
    "        data['Row'] = data.index\n",
    "        plt.scatter(data['Y'], data['X'], color='black', s=3)\n",
    "        \n",
    "        data_2 = pd.read_csv(dir_bif + num + '_training_bifurcations_position.csv')\n",
    "        data_2['Column'] = data_2.index\n",
    "        plt.scatter(data_2['Y'], data_2['X'], color='cyan', s=1.2, marker=\"*\")\n",
    "        \n",
    "        from scipy.spatial.distance import cdist\n",
    "        distance_matrix = cdist(data.values[:, 0:2], data_2.values[:, 0:2], 'euclidean') \n",
    "        df=pd.DataFrame(distance_matrix)\n",
    "\n",
    "        df = df.stack().reset_index()\n",
    "        df.columns = ['Row','Column','Value']\n",
    "\n",
    "        df_filter = df[df['Value']<=7]\n",
    "        data_fil=df_filter.merge(data, how='left', on='Row')\n",
    "        data_2_fil=df_filter.merge(data_2, how='left', on='Column')\n",
    "\n",
    "        #plt.scatter(data_fil['Y'], data_fil['X'], color='pink', s=0.8, marker='x')\n",
    "        plt.scatter(data_2_fil['Y'], data_2_fil['X'], color='yellow', s=0.8, marker=\"x\")\n",
    "        #plt.scatter(new_df['Y'], new_df['X'], color='cyan', s=1.2)\n",
    "\n",
    "\n",
    "        plt.title(f'{str(img)} N bifurcations: {len(data)} and  {len(data_2)} and  {len(data_2_fil)}')\n",
    "        plt.show()\n",
    "        \n",
    "        print(f'{str(img)} N bifurcations: {len(data)} and  {len(data_2)} and  {len(data_2_fil)}')\n",
    "\n",
    "\n",
    "    #plt.savefig(phenotype_dir + '/'+imageID + '_bif.jpg')\n",
    "    #plt.close()\n",
    "    except Exception as e:\n",
    "        print(e)"
   ]
  },
  {
   "cell_type": "code",
   "execution_count": null,
   "metadata": {},
   "outputs": [],
   "source": []
  }
 ],
 "metadata": {
  "kernelspec": {
   "display_name": "Python 3 (ipykernel)",
   "language": "python",
   "name": "python3"
  },
  "language_info": {
   "codemirror_mode": {
    "name": "ipython",
    "version": 3
   },
   "file_extension": ".py",
   "mimetype": "text/x-python",
   "name": "python",
   "nbconvert_exporter": "python",
   "pygments_lexer": "ipython3",
   "version": "3.6.9"
  }
 },
 "nbformat": 4,
 "nbformat_minor": 4
}
