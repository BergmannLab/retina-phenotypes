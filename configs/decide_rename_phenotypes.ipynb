{
 "cells": [
  {
   "cell_type": "markdown",
   "metadata": {},
   "source": [
    "# Phenotypes names: from raw to final names"
   ]
  },
  {
   "cell_type": "code",
   "execution_count": 15,
   "metadata": {},
   "outputs": [],
   "source": [
    "import matplotlib.pyplot as plt\n",
    "import csv\n",
    "import pandas as pd\n",
    "import numpy as np\n",
    "import glob\n",
    "import os"
   ]
  },
  {
   "cell_type": "markdown",
   "metadata": {},
   "source": [
    "# 'cluter_traits' is a dictionary that contain the 'raw names' as key and the 'final names' as values\n",
    "## Making the changes in here we can prevent possible renaming mistakes"
   ]
  },
  {
   "cell_type": "code",
   "execution_count": 5,
   "metadata": {},
   "outputs": [],
   "source": [
    "supplementary_traits = {\n",
    "'AVScore_all':'AVScore ',\n",
    "'tau1_all':'tortuosity',\n",
    "'tau1_artery':'tortuosity A',\n",
    "'tau1_vein':'tortuosity V',\n",
    "'tau2_all':'tau2_all',\n",
    "'tau2_artery':'tau2_artery',\n",
    "'tau2_vein':'tau2_vein',\n",
    "'tau4_all':'tau4_all',\n",
    "'tau4_artery':'tau4_artery',\n",
    "'tau4_vein':'tau4_vein',\n",
    "'D_std':'D_std',\n",
    "'D_A_std':'D_A_std',\n",
    "'D_V_std':'D_V_std_std',\n",
    "'D_median_CVMe':'D_median_CVMe',\n",
    "'D_CVMe':'D_CVMe',                                  \n",
    "'D_CVMe_A':'D_CVMe_A',                                    \n",
    "'D_CVMe_V':'D_CVMe_V',                             \n",
    "'N_median_main_arteries':'N main arteries',\n",
    "'N_median_main_veins':'N main veins',\n",
    "'arcLength_artery':'arcLength_artery',\n",
    "'arcLength_vein':'arcLength_vein',\n",
    "'bifurcations':'Bifurcations',\n",
    "'VD_orig_all':'VD',\n",
    "'VD_orig_artery':'VD arteries',\n",
    "'VD_orig_vein':'VD veins',\n",
    "'ratio_VD':'ratio_VD',\n",
    "'slope':'FD',\n",
    "'slope_artery':'FD arteries',\n",
    "'slope_vein':'FD veins',\n",
    "'mean_angle_taa':'tAA',\n",
    "'mean_angle_tva':'tVA',\n",
    "'medianCenter1_artery':'medianCenter1 A',\n",
    "'medianCenter1_vein':'medianCenter1 V',\n",
    "'medianCenter2_artery':'medianCenter2 A',\n",
    "'medianCenter2_vein':'medianCenter2 A',\n",
    "'eq_CRAE':'CRAE',\n",
    "'eq_CRVE':'CRVE',\n",
    "'median_CRAE':'median CRAE',\n",
    "'median_CRVE':'median CRVE',\n",
    "'ratio_CRAE_CRVE':'CRAE/CRVE',\n",
    "'ratio_median_CRAE_CRVE':'ratio median CRAE CRVE',\n",
    "'medianDiameter_all':'medianDiameter',\n",
    "'medianDiameter_artery':'medianDiameter A',\n",
    "'medianDiameter_vein':'medianDiameter V',\n",
    "'ratio_AV_medianDiameter':'ratio AV medianDiameter'}"
   ]
  },
  {
   "cell_type": "code",
   "execution_count": 16,
   "metadata": {},
   "outputs": [],
   "source": [
    "main_traits = {\n",
    "'tau1_artery':'tau1_artery',\n",
    "'tau1_vein':'tau1_vein',\n",
    "'ratio_AV_DF':'ratio_DF',\n",
    "'D_A_std':'D_A_std',\n",
    "'D_V_std':'D_V_std',\n",
    "'bifurcations':'Bifurcations',\n",
    "'VD_orig_artery':'VD arteries',\n",
    "'VD_orig_vein':'VD veins',\n",
    "'ratio_VD':'ratio_VD',\n",
    "'mean_angle_taa':'tAA',\n",
    "'mean_angle_tva':'tVA',\n",
    "'eq_CRAE':'CRAE',\n",
    "'eq_CRVE':'CRVE',\n",
    "'ratio_CRAE_CRVE':'CRAE/CRVE',\n",
    "'medianDiameter_artery':'medianDiameter_artery',\n",
    "'medianDiameter_vein':'medianDiameter_vein',\n",
    "'ratio_AV_medianDiameter':'ratio_medianDiameter'}"
   ]
  },
  {
   "cell_type": "code",
   "execution_count": 7,
   "metadata": {},
   "outputs": [
    {
     "data": {
      "text/plain": [
       "45"
      ]
     },
     "execution_count": 7,
     "metadata": {},
     "output_type": "execute_result"
    }
   ],
   "source": [
    "len(supplementary_traits)"
   ]
  },
  {
   "cell_type": "code",
   "execution_count": 18,
   "metadata": {},
   "outputs": [
    {
     "data": {
      "text/plain": [
       "16"
      ]
     },
     "execution_count": 18,
     "metadata": {},
     "output_type": "execute_result"
    }
   ],
   "source": [
    "len(main_traits)"
   ]
  },
  {
   "cell_type": "markdown",
   "metadata": {},
   "source": [
    "## If you modify it, copy the follow to the file 'config_.sh'"
   ]
  },
  {
   "cell_type": "code",
   "execution_count": 10,
   "metadata": {},
   "outputs": [
    {
     "name": "stdout",
     "output_type": "stream",
     "text": [
      "Raw names:\n",
      "AVScore_all,tau1_all,tau1_artery,tau1_vein,tau2_all,tau2_artery,tau2_vein,tau4_all,tau4_artery,tau4_vein,D_std,D_A_std,D_V_std,D_median_CVMe,D_CVMe,D_CVMe_A,D_CVMe_V,N_median_main_arteries,N_median_main_veins,arcLength_artery,arcLength_vein,bifurcations,VD_orig_all,VD_orig_artery,VD_orig_vein,ratio_VD,slope,slope_artery,slope_vein,mean_angle_taa,mean_angle_tva,medianCenter1_artery,medianCenter1_vein,medianCenter2_artery,medianCenter2_vein,eq_CRAE,eq_CRVE,median_CRAE,median_CRVE,ratio_CRAE_CRVE,ratio_median_CRAE_CRVE,medianDiameter_all,medianDiameter_artery,medianDiameter_vein,ratio_AV_medianDiameter\n",
      "\n",
      "Final names:\n",
      "\n",
      "AVScore ,tortuosity,tortuosity A,tortuosity V,tau2_all,tau2_artery,tau2_vein,tau4_all,tau4_artery,tau4_vein,D_std,D_A_std,D_V_std_std,D_median_CVMe,D_CVMe,D_CVMe_A,D_CVMe_V,N main arteries,N main veins,arcLength_artery,arcLength_vein,Bifurcations,VD,VD arteries,VD veins,ratio_VD,FD,FD arteries,FD veins,tAA,tVA,medianCenter1 A,medianCenter1 V,medianCenter2 A,medianCenter2 A,CRAE,CRVE,median CRAE,median CRVE,CRAE/CRVE,ratio median CRAE CRVE,medianDiameter,medianDiameter A,medianDiameter V,ratio AV medianDiameter\n"
     ]
    }
   ],
   "source": [
    "#cluster_traits.items()\n",
    "#print(cluster_traits.keys())\n",
    "#print(cluster_traits.values())\n",
    "print('Raw names:')\n",
    "print(','.join(supplementary_traits.keys()))\n",
    "print('\\nFinal names:\\n')\n",
    "print(','.join(supplementary_traits.values()))"
   ]
  },
  {
   "cell_type": "code",
   "execution_count": 19,
   "metadata": {},
   "outputs": [
    {
     "name": "stdout",
     "output_type": "stream",
     "text": [
      "Raw names:\n",
      "tau1_artery,tau1_vein,D_A_std,D_V_std,bifurcations,VD_orig_artery,VD_orig_vein,ratio_VD,mean_angle_taa,mean_angle_tva,eq_CRAE,eq_CRVE,ratio_CRAE_CRVE,medianDiameter_artery,medianDiameter_vein,ratio_AV_medianDiameter\n"
     ]
    }
   ],
   "source": [
    "print('Raw names:')\n",
    "print(','.join(main_traits.keys()))\n"
   ]
  },
  {
   "cell_type": "code",
   "execution_count": null,
   "metadata": {},
   "outputs": [],
   "source": []
  }
 ],
 "metadata": {
  "interpreter": {
   "hash": "34368ba4908ea1be08ba769dfb7764ab7f8ead2384ebb5604cb86637573696f7"
  },
  "kernelspec": {
   "display_name": "Python 3 (ipykernel)",
   "language": "python",
   "name": "python3"
  },
  "language_info": {
   "codemirror_mode": {
    "name": "ipython",
    "version": 3
   },
   "file_extension": ".py",
   "mimetype": "text/x-python",
   "name": "python",
   "nbconvert_exporter": "python",
   "pygments_lexer": "ipython3",
   "version": "3.6.9"
  }
 },
 "nbformat": 4,
 "nbformat_minor": 4
}
