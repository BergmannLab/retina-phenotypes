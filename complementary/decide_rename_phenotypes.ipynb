{
 "cells": [
  {
   "cell_type": "markdown",
   "metadata": {},
   "source": [
    "# Phenotypes names: from raw to final names"
   ]
  },
  {
   "cell_type": "code",
   "execution_count": 6,
   "metadata": {},
   "outputs": [],
   "source": [
    "import matplotlib.pyplot as plt\n",
    "import csv\n",
    "import pandas as pd\n",
    "import numpy as np\n",
    "import glob\n",
    "import os"
   ]
  },
  {
   "cell_type": "markdown",
   "metadata": {},
   "source": [
    "# 'cluter_traits' is a dictionary that contain the 'raw names' as key and the 'final names' as values\n",
    "## Making the changes in here we can prevent possible renaming mistakes"
   ]
  },
  {
   "cell_type": "code",
   "execution_count": 1,
   "metadata": {},
   "outputs": [],
   "source": [
    "cluster_traits = {\n",
    "'AVScore_all':'AVScore_all',\n",
    "'AVScore_longestFifth_all':'AVScore_longestFifth_all',\n",
    "'tau1_longestFifth_all':'tau1_longestFifth_all',\n",
    "'tau1_longestFifth_artery':'tau1_longestFifth_artery',\n",
    "'tau1_longestFifth_vein':'tau1_longestFifth_vein',\n",
    "'tau1_all':'tau1_all',\n",
    "'tau1_artery':'tau1_artery',\n",
    "'tau1_vein':'tau1_vein',\n",
    "'tau2_longestFifth_all':'tau2_longestFifth_all',\n",
    "'tau2_longestFifth_artery':'tau2_longestFifth_artery',\n",
    "'tau2_longestFifth_vein':'tau2_longestFifth_vein',\n",
    "'tau2_all':'tau2_all',\n",
    "'tau2_artery':'tau2_artery',\n",
    "'tau2_vein':'tau2_vein',\n",
    "'tau4_longestFifth_all':'tau4_longestFifth_all',\n",
    "'tau4_longestFifth_artery':'tau4_longestFifth_artery',\n",
    "'tau4_longestFifth_vein':'tau4_longestFifth_vein',\n",
    "'tau4_all':'tau4_all',\n",
    "'tau4_artery':'tau4_artery',\n",
    "'tau4_vein':'tau4_vein',\n",
    "'D_A_std_std':'D_A_std_std',\n",
    "'D_V_std_std':'D_V_std_std',\n",
    "'D_median_CVMe':'D_median_CVMe',\n",
    "'N_median_main_arteries':'N main arteries',\n",
    "'N_median_main_veins':'N main veins',\n",
    "'arcLength_longestFifth_artery':'arcLength_longestFifth_artery',\n",
    "'arcLength_longestFifth_vein':'arcLength_longestFifth_vein',\n",
    "'arcLength_artery':'arcLength_artery',\n",
    "'arcLength_vein':'arcLength_vein',\n",
    "'bifurcations':'Bifurcations',\n",
    "'VD_orig_all':'VD',\n",
    "'VD_orig_artery':'VD arteries',\n",
    "'VD_orig_vein':'VD veins',\n",
    "'slope':'FD',\n",
    "'slope_artery':'FD arteries',\n",
    "'slope_vein':'FD veins',\n",
    "'mean_angle_taa':'tAA',\n",
    "'mean_angle_tva':'tVA',\n",
    "'medianCenter1_longestFifth_artery':'medianCenter1_longestFifth_artery',       # median median vessel position on X axis\n",
    "'medianCenter1_longestFifth_vein':'medianCenter1_longestFifth_vein',\n",
    "'medianCenter1_artery':'medianCenter1_artery',\n",
    "'medianCenter1_vein':'medianCenter1_vein',\n",
    "'medianCenter2_longestFifth_artery':'medianCenter2_longestFifth_artery',       # median median vessel position on Y axis\n",
    "'medianCenter2_longestFifth_vein':'medianCenter2_longestFifth_vein',\n",
    "'medianCenter2_artery':'medianCenter2_artery',\n",
    "'medianCenter2_vein':'medianCenter2_vein',\n",
    "'medianDiameter_longestFifth_artery':'medianDiameter_longestFifth_artery',\n",
    "'medianDiameter_longestFifth_vein':'medianDiameter_longestFifth_vein',\n",
    "'eq_CRAE':'CRAE',\n",
    "'eq_CRVE':'CRVE',\n",
    "'median_CRAE':'median_CRAE',\n",
    "'median_CRVE':'median_CRVE',\n",
    "'ratio_CRAE_CRVE':'CRAE/CRVE',\n",
    "'ratio_median_CRAE_CRVE':'ratio_median_CRAE_CRVE',\n",
    "'ratio_AV_medianDiameter':'ratio_AV_medianDiameter',                 # most likely remove, kept for completion for the time being\n",
    "'ratio_medianDiameter_longest':'ratio_medianDiameter_longest',\n",
    "'ratio_DF_longest':'ratio_DF_longest',\n",
    "'ratio_tau2_longest':'ratio_tau2_longest',\n",
    "'ratio_tau4_longest':'ratio_tau4_longest'}"
   ]
  },
  {
   "cell_type": "markdown",
   "metadata": {},
   "source": [
    "## If you modify it, copy the follow to the file 'config_.sh'"
   ]
  },
  {
   "cell_type": "code",
   "execution_count": 2,
   "metadata": {},
   "outputs": [
    {
     "name": "stdout",
     "output_type": "stream",
     "text": [
      "Raw names:\n",
      "AVScore_all,AVScore_longestFifth_all,tau1_longestFifth_all,tau1_longestFifth_artery,tau1_longestFifth_vein,tau1_all,tau1_artery,tau1_vein,tau2_longestFifth_all,tau2_longestFifth_artery,tau2_longestFifth_vein,tau2_all,tau2_artery,tau2_vein,tau4_longestFifth_all,tau4_longestFifth_artery,tau4_longestFifth_vein,tau4_all,tau4_artery,tau4_vein,D_A_std_std,D_V_std_std,D_median_CVMe,N_median_main_arteries,N_median_main_veins,arcLength_longestFifth_artery,arcLength_longestFifth_vein,arcLength_artery,arcLength_vein,bifurcations,VD_orig_all,VD_orig_artery,VD_orig_vein,slope,slope_artery,slope_vein,mean_angle_taa,mean_angle_tva,medianCenter1_longestFifth_artery,medianCenter1_longestFifth_vein,medianCenter1_artery,medianCenter1_vein,medianCenter2_longestFifth_artery,medianCenter2_longestFifth_vein,medianCenter2_artery,medianCenter2_vein,medianDiameter_longestFifth_artery,medianDiameter_longestFifth_vein,eq_CRAE,eq_CRVE,median_CRAE,median_CRVE,ratio_CRAE_CRVE,ratio_median_CRAE_CRVE,ratio_AV_medianDiameter,ratio_medianDiameter_longest,ratio_DF_longest,ratio_tau2_longest,ratio_tau4_longest\n",
      "\n",
      "Final names:\n",
      "\n",
      "AVScore_all,AVScore_longestFifth_all,tau1_longestFifth_all,tau1_longestFifth_artery,tau1_longestFifth_vein,tau1_all,tau1_artery,tau1_vein,tau2_longestFifth_all,tau2_longestFifth_artery,tau2_longestFifth_vein,tau2_all,tau2_artery,tau2_vein,tau4_longestFifth_all,tau4_longestFifth_artery,tau4_longestFifth_vein,tau4_all,tau4_artery,tau4_vein,D_A_std_std,D_V_std_std,D_median_CVMe,N main arteries,N main veins,arcLength_longestFifth_artery,arcLength_longestFifth_vein,arcLength_artery,arcLength_vein,Bifurcations,VD,VD arteries,VD veins,FD,FD arteries,FD veins,tAA,tVA,medianCenter1_longestFifth_artery,medianCenter1_longestFifth_vein,medianCenter1_artery,medianCenter1_vein,medianCenter2_longestFifth_artery,medianCenter2_longestFifth_vein,medianCenter2_artery,medianCenter2_vein,medianDiameter_longestFifth_artery,medianDiameter_longestFifth_vein,CRAE,CRVE,median_CRAE,median_CRVE,CRAE/CRVE,ratio_median_CRAE_CRVE,ratio_AV_medianDiameter,ratio_medianDiameter_longest,ratio_DF_longest,ratio_tau2_longest,ratio_tau4_longest\n"
     ]
    }
   ],
   "source": [
    "#cluster_traits.items()\n",
    "#print(cluster_traits.keys())\n",
    "#print(cluster_traits.values())\n",
    "print('Raw names:')\n",
    "print(','.join(cluster_traits.keys()))\n",
    "print('\\nFinal names:\\n')\n",
    "print(','.join(cluster_traits.values()))"
   ]
  },
  {
   "cell_type": "code",
   "execution_count": null,
   "metadata": {},
   "outputs": [],
   "source": []
  },
  {
   "cell_type": "code",
   "execution_count": null,
   "metadata": {},
   "outputs": [],
   "source": []
  }
 ],
 "metadata": {
  "interpreter": {
   "hash": "34368ba4908ea1be08ba769dfb7764ab7f8ead2384ebb5604cb86637573696f7"
  },
  "kernelspec": {
   "display_name": "Python 3 (ipykernel)",
   "language": "python",
   "name": "python3"
  },
  "language_info": {
   "codemirror_mode": {
    "name": "ipython",
    "version": 3
   },
   "file_extension": ".py",
   "mimetype": "text/x-python",
   "name": "python",
   "nbconvert_exporter": "python",
   "pygments_lexer": "ipython3",
   "version": "3.6.9"
  }
 },
 "nbformat": 4,
 "nbformat_minor": 4
}
