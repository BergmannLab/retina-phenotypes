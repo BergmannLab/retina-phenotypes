{
 "cells": [
  {
   "cell_type": "markdown",
   "metadata": {},
   "source": [
    "# Phenotypes names: from raw to final names"
   ]
  },
  {
   "cell_type": "code",
   "execution_count": 3,
   "metadata": {},
   "outputs": [],
   "source": [
    "import matplotlib.pyplot as plt\n",
    "import csv\n",
    "import pandas as pd\n",
    "import numpy as np\n",
    "import glob\n",
    "import os"
   ]
  },
  {
   "cell_type": "markdown",
   "metadata": {},
   "source": [
    "# 'cluter_traits' is a dictionary that contain the 'raw names' as key and the 'final names' as values\n",
    "## Making the changes in here we can prevent possible renaming mistakes"
   ]
  },
  {
   "cell_type": "code",
   "execution_count": 4,
   "metadata": {},
   "outputs": [],
   "source": [
    "supplementary_traits = {\n",
    "'tau1_all':'tortuosity',\n",
    "'tau1_artery':'A tortuosity',\n",
    "'tau1_vein':'V tortuosity',\n",
    "'ratio_AV_DF':'ratio tortuosity',\n",
    "'tau2_all':'tortuosity2',\n",
    "'tau2_artery':'A tortuosity2',\n",
    "'tau2_vein':'V tortuosity2',\n",
    "'tau4_all':'tortuosity3',\n",
    "'tau4_artery':'A tortuosity3',\n",
    "'tau4_vein':'V tortuosity3',\n",
    "'D_std':'std diameter',\n",
    "'D_A_std':'A std diameter',\n",
    "'D_V_std':'V std diameter',\n",
    "#'D_median_CVMe':'D_median_CVMe',\n",
    "'D_CVMe':'CVMe diameter',                                  \n",
    "'D_CVMe_A':'A CVMe diameter',                                    \n",
    "'D_CVMe_V':'V CVMe diameter',\n",
    "'sd_mean_size':'std norm diameter',                             \n",
    "'N_median_main_arteries':'A num main',\n",
    "'N_median_main_veins':'V num main',\n",
    "'arcLength_artery':'A arc length',\n",
    "'arcLength_vein':'V arc length',\n",
    "'bifurcations':'bifurcations',\n",
    "'VD_orig_all':'vascular density',\n",
    "'VD_orig_artery':'A vascular density',\n",
    "'VD_orig_vein':'V vascular density',\n",
    "'ratio_VD':'ratio vascular density',\n",
    "'slope':'fractal dimension',\n",
    "'slope_artery':'A fractal dimension',\n",
    "'slope_vein':'V fractal dimension',\n",
    "'mean_angle_taa':'A temporal angle',\n",
    "'mean_angle_tva':'V temporal angle',\n",
    "#'medianCenter1_artery':'medianCenter1 A',\n",
    "#'medianCenter1_vein':'medianCenter1 V',\n",
    "#'medianCenter2_artery':'medianCenter2 A',\n",
    "#'medianCenter2_vein':'medianCenter2 A',\n",
    "'eq_CRAE':'A central retinal eq',\n",
    "'eq_CRVE':'V central retinal eq',\n",
    "'median_CRAE':'A main diameter',\n",
    "'median_CRVE':'V main diameter',\n",
    "'CRAE':'A central retinal eq2', \n",
    "'CRVE':'V central retinal eq2', \n",
    "'ratio_CRAE_CRVE':'ratio central retinal eq',\n",
    "'ratio_median_CRAE_CRVE':'ratio main diameter',\n",
    "'ratio_standard_CRE':'ratio central retinal eq2',\n",
    "'medianDiameter_all':'median diameter',\n",
    "'medianDiameter_artery':'A median diameter',\n",
    "'medianDiameter_vein':'V median diameter',\n",
    "'ratio_AV_medianDiameter':'ratio median diameter'}"
   ]
  },
  {
   "cell_type": "code",
   "execution_count": 1,
   "metadata": {},
   "outputs": [],
   "source": [
    "main_traits = {\n",
    "'mean_angle_taa':'A temporal angle',\n",
    "'mean_angle_tva':'V temporal angle',\n",
    "'tau1_vein':'V tortuosity',\n",
    "'tau1_artery':'A tortuosity',\n",
    "'ratio_AV_DF':'ratio tortuosity',\n",
    "'eq_CRAE':'A central retinal eq',\n",
    "'ratio_CRAE_CRVE':'ratio central retinal eq',\n",
    "'D_A_std':'A std diameter',\n",
    "'D_V_std':'V std diameter',\n",
    "'eq_CRVE':'V central retinal eq',\n",
    "'ratio_VD':'ratio vascular density',\n",
    "'VD_orig_artery':'A vascular density',\n",
    "'bifurcations':'bifurcations',\n",
    "'VD_orig_vein':'V vascular density',\n",
    "'medianDiameter_artery':'A median diameter',\n",
    "'medianDiameter_vein':'V median diameter',\n",
    "'ratio_AV_medianDiameter':'ratio median diameter'}"
   ]
  },
  {
   "cell_type": "code",
   "execution_count": 6,
   "metadata": {},
   "outputs": [
    {
     "data": {
      "text/plain": [
       "44"
      ]
     },
     "execution_count": 6,
     "metadata": {},
     "output_type": "execute_result"
    }
   ],
   "source": [
    "len(supplementary_traits)"
   ]
  },
  {
   "cell_type": "code",
   "execution_count": 7,
   "metadata": {},
   "outputs": [
    {
     "data": {
      "text/plain": [
       "17"
      ]
     },
     "execution_count": 7,
     "metadata": {},
     "output_type": "execute_result"
    }
   ],
   "source": [
    "len(main_traits)"
   ]
  },
  {
   "cell_type": "markdown",
   "metadata": {},
   "source": [
    "## If you modify it, copy the follow to the file 'config_.sh'"
   ]
  },
  {
   "cell_type": "code",
   "execution_count": 8,
   "metadata": {},
   "outputs": [
    {
     "name": "stdout",
     "output_type": "stream",
     "text": [
      "Raw names:\n",
      "tau1_all,tau1_artery,tau1_vein,ratio_AV_DF,tau2_all,tau2_artery,tau2_vein,tau4_all,tau4_artery,tau4_vein,D_std,D_A_std,D_V_std,D_CVMe,D_CVMe_A,D_CVMe_V,sd_mean_size,N_median_main_arteries,N_median_main_veins,arcLength_artery,arcLength_vein,bifurcations,VD_orig_all,VD_orig_artery,VD_orig_vein,ratio_VD,slope,slope_artery,slope_vein,mean_angle_taa,mean_angle_tva,eq_CRAE,eq_CRVE,median_CRAE,median_CRVE,CRAE,CRVE,ratio_CRAE_CRVE,ratio_median_CRAE_CRVE,ratio_standard_CRE,medianDiameter_all,medianDiameter_artery,medianDiameter_vein,ratio_AV_medianDiameter\n",
      "\n",
      "Final names:\n",
      "\n",
      "tortuosity,A tortuosity,V tortuosity,ratio tortuosity,tortuosity2,A tortuosity2,V tortuosity2,tortuosity3,A tortuosity3,V tortuosity3,std diameter,A std diameter,V std diameter,CVMe diameter,A CVMe diameter,V CVMe diameter,std norm diameter,A num main,V num main,A arc length,V arc length,bifurcations,vascular density,A vascular density,V vascular density,ratio vascular density,fractal dimension,A fractal dimension,V fractal dimension,A temporal angle,V temporal angle,A central retinal eq,V central retinal eq,A main diameter,V main diameter,A central retinal eq2,V central retinal eq2,ratio central retinal eq,ratio main diameter,ratio central retinal eq2,median diameter,A median diameter,V median diameter,ratio median diameter\n"
     ]
    }
   ],
   "source": [
    "#cluster_traits.items()\n",
    "#print(cluster_traits.keys())\n",
    "#print(cluster_traits.values())\n",
    "print('Raw names:')\n",
    "print(','.join(supplementary_traits.keys()))\n",
    "print('\\nFinal names:\\n')\n",
    "print(','.join(supplementary_traits.values()))"
   ]
  },
  {
   "cell_type": "code",
   "execution_count": 2,
   "metadata": {},
   "outputs": [
    {
     "name": "stdout",
     "output_type": "stream",
     "text": [
      "Raw names:\n",
      "mean_angle_taa,mean_angle_tva,tau1_vein,tau1_artery,ratio_AV_DF,eq_CRAE,ratio_CRAE_CRVE,D_A_std,D_V_std,eq_CRVE,ratio_VD,VD_orig_artery,bifurcations,VD_orig_vein,medianDiameter_artery,medianDiameter_vein,ratio_AV_medianDiameter\n",
      "\n",
      "Final names:\n",
      "A temporal angle,V temporal angle,V tortuosity,A tortuosity,ratio tortuosity,A central retinal eq,ratio central retinal eq,A std diameter,V std diameter,V central retinal eq,ratio vascular density,A vascular density,bifurcations,V vascular density,A median diameter,V median diameter,ratio median diameter\n"
     ]
    }
   ],
   "source": [
    "print('Raw names:')\n",
    "print(','.join(main_traits.keys()))\n",
    "print('\\nFinal names:')\n",
    "print(','.join(main_traits.values()))"
   ]
  },
  {
   "cell_type": "code",
   "execution_count": null,
   "metadata": {},
   "outputs": [],
   "source": []
  }
 ],
 "metadata": {
  "interpreter": {
   "hash": "31f2aee4e71d21fbe5cf8b01ff0e069b9275f58929596ceb00d14d90e3e16cd6"
  },
  "kernelspec": {
   "display_name": "Python 3.6.9 64-bit",
   "name": "python3"
  },
  "language_info": {
   "codemirror_mode": {
    "name": "ipython",
    "version": 3
   },
   "file_extension": ".py",
   "mimetype": "text/x-python",
   "name": "python",
   "nbconvert_exporter": "python",
   "pygments_lexer": "ipython3",
   "version": "3.6.9"
  }
 },
 "nbformat": 4,
 "nbformat_minor": 4
}
