{
 "cells": [
  {
   "cell_type": "markdown",
   "metadata": {},
   "source": [
    "# Plot bifurcations"
   ]
  },
  {
   "cell_type": "code",
   "execution_count": null,
   "metadata": {},
   "outputs": [],
   "source": [
    "import pandas as pd\n",
    "import numpy as np\n",
    "import matplotlib.pyplot as plt\n",
    "import matplotlib.image as mpimg\n",
    "import pickle5 as pickle\n",
    "import glob\n",
    "import csv\n",
    "import os"
   ]
  },
  {
   "cell_type": "code",
   "execution_count": null,
   "metadata": {},
   "outputs": [],
   "source": [
    "#### Change to match your directories and select if you want the AV segmentation:\n",
    "dir_images='/Users/sortinve/Desktop/Vascular_shared_genetics_in_the_retina/__CODIGO/retina-phenotypes/input/DRIVE_images/DRIVE/'\n",
    "dir_ARIA_output= '/Users/sortinve/Desktop/Vascular_shared_genetics_in_the_retina/__CODIGO/retina-phenotypes/output/ARIA_output_DRIVE/'\n",
    "dir_bif = '/Users/sortinve/Desktop/Vascular_shared_genetics_in_the_retina/__CODIGO/retina-phenotypes/output/phenotypes_DRIVE_all/bifurcations_position/'\n",
    "with_AV_segmentation=True #True or False"
   ]
  },
  {
   "cell_type": "code",
   "execution_count": null,
   "metadata": {},
   "outputs": [],
   "source": [
    "os.chdir(dir_images) \n",
    "\n",
    "for img in glob.glob(\"*.png\"):\n",
    "    try:\n",
    "        imageID = os.path.splitext(img)[0]\n",
    "        num=imageID.split(\"_\")[0]\n",
    "        \n",
    "        fig2 = plt.figure(figsize = (5,5)) # create a 5 x 5 figure \n",
    "        ax3 = fig2.add_subplot(111)\n",
    "        ax3.imshow(mpimg.imread(img), interpolation='none')\n",
    "\n",
    "        if with_AV_segmentation:\n",
    "            X = []\n",
    "            Y = []\n",
    "            segmentStats = []\n",
    "\n",
    "            with open(dir_ARIA_output+ imageID + \"_all_center2Coordinates.tsv\") as fd:\n",
    "                rd = csv.reader(fd, delimiter='\\t')\n",
    "                X.extend([float(j) for j in row] for row in rd)\n",
    "            with open(dir_ARIA_output+ imageID + \"_all_center1Coordinates.tsv\") as fd:\n",
    "                rd = csv.reader(fd, delimiter='\\t')\n",
    "                Y.extend([float(j) for j in row] for row in rd)\n",
    "            with open(dir_ARIA_output+ imageID + \"_all_segmentStats.tsv\") as fd:\n",
    "                rd = pd.read_csv(fd, sep='\\t')\n",
    "                segmentStats = rd[\"AVScore\"]\n",
    "\n",
    "            df = pd.DataFrame([])\n",
    "            df[\"segmentStats\"] = segmentStats\n",
    "\n",
    "            df_results = pd.DataFrame([])\n",
    "            df_aux = pd.DataFrame([])\n",
    "            aux = int(df.count(axis=0))\n",
    "\n",
    "            # 'Arteries' if df['AVScore'] > 0\n",
    "            # 'Veins' if df['AVScore'] < 0\n",
    "            for i in range(aux):\n",
    "                df_aux = pd.DataFrame(X[i])\n",
    "                df_aux[\"Y\"] = pd.DataFrame(Y[i])\n",
    "                df_aux[\"type\"] = segmentStats[i]\n",
    "                df_aux[\"i\"] = i\n",
    "                df_results = df_results.append(df_aux, True)\n",
    "\n",
    "            df_results.columns = ['X', 'Y', 'type', 'i']\n",
    "            df_results['type'] = np.sign(df_results['type'])\n",
    "\n",
    "            # Delete segments that were not identifiy as an artery or vein:\n",
    "            df_results = df_results.loc[df_results['type'] != 0]\n",
    "\n",
    "            plt.scatter(x=df_results['X'], y=df_results['Y'], c=df_results['type'], cmap=\"jet\", marker=\"d\", alpha=0.5, s= 0.2)\n",
    "\n",
    "        bif_positions = pd.read_csv(dir_bif + num + '_training_bifurcations_position.csv')\n",
    "        plt.scatter(bif_positions['Y'], bif_positions['X'], color='black', s=6)\n",
    "\n",
    "        plt.title(f'{str(img)} N bifurcations: {len(bif_positions)}')\n",
    "        plt.show()\n",
    "    except Exception as e:\n",
    "        print(e)"
   ]
  }
 ],
 "metadata": {
  "interpreter": {
   "hash": "34368ba4908ea1be08ba769dfb7764ab7f8ead2384ebb5604cb86637573696f7"
  },
  "kernelspec": {
   "display_name": "Python 3.8.12 64-bit (conda)",
   "name": "python3"
  },
  "language_info": {
   "codemirror_mode": {
    "name": "ipython",
    "version": 3
   },
   "file_extension": ".py",
   "mimetype": "text/x-python",
   "name": "python",
   "nbconvert_exporter": "python",
   "pygments_lexer": "ipython3",
   "version": "3.8.12"
  }
 },
 "nbformat": 4,
 "nbformat_minor": 4
}
