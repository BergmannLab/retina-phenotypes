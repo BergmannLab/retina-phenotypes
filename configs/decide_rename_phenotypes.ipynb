{
 "cells": [
  {
   "cell_type": "markdown",
   "metadata": {},
   "source": [
    "# Phenotypes names: from raw to final names"
   ]
  },
  {
   "cell_type": "code",
   "execution_count": null,
   "metadata": {},
   "outputs": [],
   "source": [
    "import matplotlib.pyplot as plt\n",
    "import csv\n",
    "import pandas as pd\n",
    "import numpy as np\n",
    "import glob\n",
    "import os"
   ]
  },
  {
   "cell_type": "markdown",
   "metadata": {},
   "source": [
    "# 'cluter_traits' is a dictionary that contain the 'raw names' as key and the 'final names' as values\n",
    "## Making the changes in here we can prevent possible renaming mistakes"
   ]
  },
  {
   "cell_type": "code",
   "execution_count": 7,
   "metadata": {},
   "outputs": [],
   "source": [
    "supplementary_traits = {\n",
    "'tau1_all':'Tortuosity',\n",
    "'tau1_artery':'Tortuosity A',\n",
    "'tau1_vein':'Tortuosity V',\n",
    "'ratio_AV_DF':'Tortuosity ratio',\n",
    "'tau2_all':'Tortuosity2',\n",
    "'tau2_artery':'Tortuosity2 A',\n",
    "'tau2_vein':'Tortuosity2 V',\n",
    "'tau4_all':'tortuosity3',\n",
    "'tau4_artery':'Tortuosity3 A',\n",
    "'tau4_vein':'Tortuosity3 V',\n",
    "'D_std':'Std diameter',\n",
    "'D_A_std':'Std diameter A',\n",
    "'D_V_std':'Std diameter V',\n",
    "#'D_median_CVMe':'D_median_CVMe',\n",
    "'D_CVMe':'CVMe diameter',                                  \n",
    "'D_CVMe_A':'CVMe diameter A',                                    \n",
    "'D_CVMe_V':'CVMe diameter V',                             \n",
    "'N_median_main_arteries':'N main artery',\n",
    "'N_median_main_veins':'N main vein',\n",
    "'arcLength_artery':'Arc length A',\n",
    "'arcLength_vein':'Arc length V',\n",
    "'bifurcations':'Bifurcations',\n",
    "'VD_orig_all':'Vascular density',\n",
    "'VD_orig_artery':'Vascular density A',\n",
    "'VD_orig_vein':'Vascular density V',\n",
    "'ratio_VD':'Vascular density ratio',\n",
    "'slope':'Fractal dimension',\n",
    "'slope_artery':'Fractal dimension A',\n",
    "'slope_vein':'Fractal dimension V',\n",
    "'mean_angle_taa':'tAA',\n",
    "'mean_angle_tva':'tVA',\n",
    "#'medianCenter1_artery':'medianCenter1 A',\n",
    "#'medianCenter1_vein':'medianCenter1 V',\n",
    "#'medianCenter2_artery':'medianCenter2 A',\n",
    "#'medianCenter2_vein':'medianCenter2 A',\n",
    "'eq_CRAE':'CRAE',\n",
    "'eq_CRVE':'CRVE',\n",
    "'median_CRAE':'Median CRAE',\n",
    "'median_CRVE':'Median CRVE',\n",
    "'ratio_CRAE_CRVE':'CRAE CRVE ratio',\n",
    "'ratio_median_CRAE_CRVE':'Median CRAE CRVE ratio',\n",
    "'medianDiameter_all':'Median diameter',\n",
    "'medianDiameter_artery':'Median diameter A',\n",
    "'medianDiameter_vein':'Median diameter V',\n",
    "'ratio_AV_medianDiameter':'Median diameter ratio'}"
   ]
  },
  {
   "cell_type": "code",
   "execution_count": 8,
   "metadata": {},
   "outputs": [],
   "source": [
    "main_traits = {\n",
    "'tau1_artery':'Tortuosity A',\n",
    "'tau1_vein':'Tortuosity V',\n",
    "'ratio_AV_DF':'Tortuosity ratio',\n",
    "'D_A_std':'Std diameter A',\n",
    "'D_V_std':'Std diameter V',\n",
    "'bifurcations':'Bifurcations',\n",
    "'VD_orig_artery':'Vascular density A',\n",
    "'VD_orig_vein':'Vascular density V',\n",
    "'ratio_VD':'Vascular density ratio',\n",
    "'mean_angle_taa':'tAA',\n",
    "'mean_angle_tva':'tVA',\n",
    "'eq_CRAE':'CRAE',\n",
    "'eq_CRVE':'CRVE',\n",
    "'ratio_CRAE_CRVE':'CRAE CRVE ratio',\n",
    "'medianDiameter_artery':'Median diameter A',\n",
    "'medianDiameter_vein':'Median diameter V',\n",
    "'ratio_AV_medianDiameter':'Median diameter ratio'}"
   ]
  },
  {
   "cell_type": "code",
   "execution_count": 9,
   "metadata": {},
   "outputs": [
    {
     "data": {
      "text/plain": [
       "40"
      ]
     },
     "execution_count": 9,
     "metadata": {},
     "output_type": "execute_result"
    }
   ],
   "source": [
    "len(supplementary_traits)"
   ]
  },
  {
   "cell_type": "code",
   "execution_count": 10,
   "metadata": {},
   "outputs": [
    {
     "data": {
      "text/plain": [
       "17"
      ]
     },
     "execution_count": 10,
     "metadata": {},
     "output_type": "execute_result"
    }
   ],
   "source": [
    "len(main_traits)"
   ]
  },
  {
   "cell_type": "markdown",
   "metadata": {},
   "source": [
    "## If you modify it, copy the follow to the file 'config_.sh'"
   ]
  },
  {
   "cell_type": "code",
   "execution_count": 11,
   "metadata": {},
   "outputs": [
    {
     "name": "stdout",
     "output_type": "stream",
     "text": [
      "Raw names:\n",
      "tau1_all,tau1_artery,tau1_vein,ratio_AV_DF,tau2_all,tau2_artery,tau2_vein,tau4_all,tau4_artery,tau4_vein,D_std,D_A_std,D_V_std,D_CVMe,D_CVMe_A,D_CVMe_V,N_median_main_arteries,N_median_main_veins,arcLength_artery,arcLength_vein,bifurcations,VD_orig_all,VD_orig_artery,VD_orig_vein,ratio_VD,slope,slope_artery,slope_vein,mean_angle_taa,mean_angle_tva,eq_CRAE,eq_CRVE,median_CRAE,median_CRVE,ratio_CRAE_CRVE,ratio_median_CRAE_CRVE,medianDiameter_all,medianDiameter_artery,medianDiameter_vein,ratio_AV_medianDiameter\n",
      "\n",
      "Final names:\n",
      "\n",
      "Tortuosity,Tortuosity A,Tortuosity V,Tortuosity ratio,Tortuosity2,Tortuosity2 A,Tortuosity2 V,tortuosity3,Tortuosity3 A,Tortuosity3 V,Std diameter,Std diameter A,Std diameter V,CVMe diameter,CVMe diameter A,CVMe diameter V,N main artery,N main vein,Arc length A,Arc length V,Bifurcations,Vascular density,Vascular density A,Vascular density V,Vascular density ratio,Fractal dimension,Fractal dimension A,Fractal dimension V,tAA,tVA,CRAE,CRVE,Median CRAE,Median CRVE,CRAE CRVE ratio,Median CRAE CRVE ratio,Median diameter,Median diameter A,Median diameter V,Median diameter ratio\n"
     ]
    }
   ],
   "source": [
    "#cluster_traits.items()\n",
    "#print(cluster_traits.keys())\n",
    "#print(cluster_traits.values())\n",
    "print('Raw names:')\n",
    "print(','.join(supplementary_traits.keys()))\n",
    "print('\\nFinal names:\\n')\n",
    "print(','.join(supplementary_traits.values()))"
   ]
  },
  {
   "cell_type": "code",
   "execution_count": 12,
   "metadata": {},
   "outputs": [
    {
     "name": "stdout",
     "output_type": "stream",
     "text": [
      "Raw names:\n",
      "tau1_artery,tau1_vein,ratio_AV_DF,D_A_std,D_V_std,bifurcations,VD_orig_artery,VD_orig_vein,ratio_VD,mean_angle_taa,mean_angle_tva,eq_CRAE,eq_CRVE,ratio_CRAE_CRVE,medianDiameter_artery,medianDiameter_vein,ratio_AV_medianDiameter\n",
      "\n",
      "Final names:\n",
      "Tortuosity A,Tortuosity V,Tortuosity ratio,Std diameter A,Std diameter V,Bifurcations,Vascular density A,Vascular density V,Vascular density ratio,tAA,tVA,CRAE,CRVE,CRAE CRVE ratio,Median diameter A,Median diameter V,Median diameter ratio\n"
     ]
    }
   ],
   "source": [
    "print('Raw names:')\n",
    "print(','.join(main_traits.keys()))\n",
    "print('\\nFinal names:')\n",
    "print(','.join(main_traits.values()))"
   ]
  },
  {
   "cell_type": "code",
   "execution_count": null,
   "metadata": {},
   "outputs": [],
   "source": []
  }
 ],
 "metadata": {
  "interpreter": {
   "hash": "34368ba4908ea1be08ba769dfb7764ab7f8ead2384ebb5604cb86637573696f7"
  },
  "kernelspec": {
   "display_name": "Python 3 (ipykernel)",
   "language": "python",
   "name": "python3"
  },
  "language_info": {
   "codemirror_mode": {
    "name": "ipython",
    "version": 3
   },
   "file_extension": ".py",
   "mimetype": "text/x-python",
   "name": "python",
   "nbconvert_exporter": "python",
   "pygments_lexer": "ipython3",
   "version": "3.6.9"
  }
 },
 "nbformat": 4,
 "nbformat_minor": 4
}
