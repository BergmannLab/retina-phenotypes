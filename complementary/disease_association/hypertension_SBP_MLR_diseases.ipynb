{
 "cells": [
  {
   "cell_type": "markdown",
   "metadata": {},
   "source": [
    "# HYPERTENSION SBP"
   ]
  },
  {
   "cell_type": "markdown",
   "metadata": {},
   "source": [
    "Last modification: 03/07/2023"
   ]
  },
  {
   "cell_type": "code",
   "execution_count": 47,
   "metadata": {},
   "outputs": [],
   "source": [
    "import function_diseases_associations as fda\n",
    "import function_figures_associations as ffa\n",
    "import pandas as pd\n",
    "import matplotlib.pyplot as plt\n",
    "import numpy as np\n"
   ]
  },
  {
   "cell_type": "code",
   "execution_count": 48,
   "metadata": {},
   "outputs": [],
   "source": [
    "# REQUIRED FOR THE FIRST PART: COMPUTING THE BETAS AND PVALUES\n",
    "\n",
    "only_main_vascular_phenotypes = True #True\n",
    "\n",
    "Normalization=False \n",
    "\n",
    "file_info_name='pheno_diseases_info.csv'\n",
    "pheno_info_file = f'/SSD/home/sofia/retina-phenotypes/complementary/{file_info_name}'\n",
    "diseases_file ='/NVME/decrypted/scratch/multitrait/UK_BIOBANK_PREPRINT/diseases_cov/2022_11_23_covar_fix_diseases_cov.csv'\n",
    "pheno_file ='/NVME/decrypted/scratch/multitrait/UK_BIOBANK_PREPRINT/participant_phenotype/2022_11_23_covar_fix_z_corrected.csv'\n",
    "output_dir ='/SSD/home/sofia/retina-phenotypes/complementary/disease_association/'"
   ]
  },
  {
   "cell_type": "code",
   "execution_count": 49,
   "metadata": {},
   "outputs": [],
   "source": [
    "if only_main_vascular_phenotypes:\n",
    "    list_phenotypes=[\"tau1_artery\", \"tau1_vein\", \"D_A_std\", \"D_V_std\", \"bifurcations\", \"VD_orig_artery\", \"VD_orig_vein\", \n",
    "                     \"ratio_VD\", \"mean_angle_taa\" , \"mean_angle_tva\", \"eq_CRAE\", \"eq_CRVE\", \"ratio_CRAE_CRVE\",\n",
    "                     \"medianDiameter_artery\", \"medianDiameter_vein\", \"ratio_AV_medianDiameter\"]\n",
    "else:\n",
    "    list_phenotypes=['AVScore_all', 'tau1_all', 'tau1_artery', 'tau1_vein', 'tau2_all', 'tau2_artery', 'tau2_vein', \n",
    "                     'tau4_all', 'tau4_artery', 'tau4_vein', 'D_std', 'D_A_std', 'D_V_std', 'D_median_CVMe', 'D_CVMe', \n",
    "                     'D_CVMe_A', 'D_CVMe_V', 'N_median_main_arteries', 'N_median_main_veins', 'arcLength_artery', 'arcLength_vein', \n",
    "                     'bifurcations', 'VD_orig_all', 'VD_orig_artery', 'VD_orig_vein', 'ratio_VD', 'slope', 'slope_artery', 'slope_vein', \n",
    "                     'mean_angle_taa', 'mean_angle_tva', 'medianCenter1_artery', 'medianCenter1_vein', 'medianCenter2_artery', 'medianCenter2_vein', \n",
    "                     'eq_CRAE', 'eq_CRVE', 'median_CRAE', 'median_CRVE', 'ratio_CRAE_CRVE', 'ratio_median_CRAE_CRVE', 'medianDiameter_all',\n",
    "                     'medianDiameter_artery','medianDiameter_vein', 'ratio_AV_medianDiameter']"
   ]
  },
  {
   "cell_type": "markdown",
   "metadata": {},
   "source": [
    "# FIRST PART: COMPUTE BETAS AND PVALUES"
   ]
  },
  {
   "cell_type": "code",
   "execution_count": 51,
   "metadata": {},
   "outputs": [
    {
     "name": "stdout",
     "output_type": "stream",
     "text": [
      "Len BEFORE merge: pheno size , diseases size:  68324 81859\n",
      "Len AFTER merge:  68324\n"
     ]
    }
   ],
   "source": [
    "\n",
    "df_diseases, inf, list_diseases, list_diseases_bin, list_diseases_con, list_diseases_cat = fda.read_diseases_files(diseases_file, pheno_info_file)\n",
    "\n",
    "####################### 2 - Phenotypes:\n",
    "\n",
    "df_pheno =  fda.read_pheno(pheno_file)\n",
    "\n",
    "####################### 3 - Merge diseases and phenotpyes\n",
    "df_pheno_dise = fda.merge_pheno_diseases(df_pheno, df_diseases)\n",
    "\n",
    "# Filtrate only by the phenotypes and diseases of interest\n",
    "df_pheno_dise = fda.filtrate_col(df_pheno_dise, list_phenotypes+list(list_diseases))\n",
    "\n",
    "if Normalization==True:\n",
    "    # Replace nans by 0's in cases/controls\n",
    "    df_pheno_dise = fda.column_startwith_replace_nan_by_0(df_pheno_dise)\n",
    "\n",
    "    # Standardise continuous diseasesa and continuous phenotypes if not z-scored\n",
    "\n",
    "    df_pheno_dise =  fda.std_contin_col(df_pheno_dise, list_diseases_con)\n",
    "\n",
    "    # Check the type of variables and convert objects to numeric:\n",
    "\n",
    "    ### convert to type numeric the columns that are not\n",
    "    df_pheno_dise['date_reported_atherosclerosis'] = pd.to_numeric(df_pheno_dise['date_reported_atherosclerosis']) # 'date_disorders_arteries_arterioles', 'date_AD', 'date_death',\n",
    "    df_pheno_dise = fda.col_to_numeric(df_pheno_dise)\n"
   ]
  },
  {
   "cell_type": "code",
   "execution_count": 56,
   "metadata": {},
   "outputs": [
    {
     "data": {
      "text/plain": [
       "-1.0     1654\n",
       " 50.0    1602\n",
       " 55.0    1190\n",
       " 60.0    1142\n",
       " 40.0     959\n",
       " 45.0     915\n",
       " 58.0     683\n",
       " 52.0     597\n",
       " 48.0     525\n",
       " 56.0     523\n",
       " 62.0     485\n",
       " 54.0     442\n",
       " 59.0     425\n",
       " 53.0     412\n",
       " 57.0     405\n",
       " 65.0     403\n",
       " 42.0     333\n",
       " 46.0     319\n",
       " 63.0     313\n",
       " 49.0     307\n",
       " 51.0     306\n",
       " 61.0     303\n",
       " 64.0     292\n",
       " 47.0     260\n",
       " 44.0     250\n",
       " 35.0     217\n",
       " 30.0     201\n",
       " 43.0     201\n",
       " 66.0     166\n",
       " 38.0     143\n",
       " 67.0     133\n",
       " 41.0     129\n",
       " 68.0     107\n",
       " 36.0     105\n",
       " 39.0     103\n",
       " 32.0      89\n",
       " 37.0      83\n",
       " 25.0      81\n",
       " 28.0      76\n",
       " 33.0      70\n",
       " 27.0      62\n",
       " 34.0      59\n",
       " 29.0      55\n",
       " 26.0      54\n",
       " 69.0      52\n",
       " 24.0      48\n",
       " 20.0      46\n",
       " 23.0      45\n",
       " 31.0      45\n",
       " 21.0      42\n",
       " 22.0      33\n",
       " 19.0      28\n",
       " 18.0      28\n",
       " 70.0      23\n",
       "-3.0       20\n",
       " 71.0      13\n",
       " 73.0       6\n",
       " 72.0       5\n",
       "Name: age_high_BP_both, dtype: int64"
      ]
     },
     "execution_count": 56,
     "metadata": {},
     "output_type": "execute_result"
    }
   ],
   "source": [
    "df_pheno_dise['age_high_BP_both'].value_counts()"
   ]
  },
  {
   "cell_type": "code",
   "execution_count": 24,
   "metadata": {},
   "outputs": [
    {
     "data": {
      "text/plain": [
       "0       -0.610428\n",
       "1       -0.197303\n",
       "2        0.351739\n",
       "3        0.861991\n",
       "4        0.089038\n",
       "           ...   \n",
       "68319   -0.022218\n",
       "68320    0.676467\n",
       "68321    0.942756\n",
       "68322    0.452643\n",
       "68323   -0.545264\n",
       "Name: ratio_AV_medianDiameter, Length: 68324, dtype: float64"
      ]
     },
     "execution_count": 24,
     "metadata": {},
     "output_type": "execute_result"
    }
   ],
   "source": [
    "\n",
    "def scatter_both(col_1, col_2):\n",
    "    # Remove rows with NaN values in col_1 or col_2\n",
    "    df_cleaned = df_pheno_dise[[col_1, col_2]].dropna()\n",
    "    \n",
    "    # Extract the cleaned data\n",
    "    col_1_cleaned = df_cleaned[col_1]\n",
    "    col_2_cleaned = df_cleaned[col_2]\n",
    "    \n",
    "    plt.scatter(col_1_cleaned, col_2_cleaned, alpha=0.5, s=0.1)\n",
    "    \n",
    "    # Calculate and plot the tendency line\n",
    "    m, b = np.polyfit(col_1_cleaned, col_2_cleaned, 1)\n",
    "    plt.plot(col_1_cleaned, m * col_1_cleaned + b, color='red')\n",
    "    \n",
    "    # Add equation of the line to the plot\n",
    "    equation = f'y = {m:.2f}x + {b:.2f}'\n",
    "    plt.text(0.5, 0.9, equation, ha='center', va='center', transform=plt.gca().transAxes)\n",
    "    \n",
    "    # Add axis labels\n",
    "    plt.xlabel(col_1)\n",
    "    plt.ylabel(col_2)\n",
    "    \n",
    "    # Add title with the column names and number of dots\n",
    "    plt.title(f'Scatter Plot: {col_1} vs {col_2}\\nNumber of Dots: {len(df_cleaned)}')\n",
    "    \n",
    "    plt.show()\n",
    "\n",
    "\n",
    "df_pheno_dise['SBP_both']\n",
    "df_pheno_dise['age_high_BP_both']\n",
    "\n",
    "df_pheno_dise['D_A_std']\n",
    "df_pheno_dise['D_V_std']\n",
    "df_pheno_dise['eq_CRAE']\n",
    "df_pheno_dise['eq_CRVE']\n",
    "df_pheno_dise['ratio_CRAE_CRVE']\n",
    "df_pheno_dise['medianDiameter_artery']\n",
    "df_pheno_dise['medianDiameter_vein']\n",
    "df_pheno_dise['ratio_AV_medianDiameter']\n",
    "\n",
    "#scatter_both('SBP_both', 'age_high_BP_both')\n",
    "#scatter_both('DBP_both', 'age_high_BP_both')\n",
    "#for c1 in ['DBP_both', 'age_high_BP_both']:\n",
    "#    for c2 in ['D_A_std', 'D_V_std', 'eq_CRAE', 'eq_CRVE', 'ratio_CRAE_CRVE', 'medianDiameter_artery', 'medianDiameter_vein', 'ratio_AV_medianDiameter']:\n",
    "#        scatter_both(c1, c2)"
   ]
  },
  {
   "cell_type": "code",
   "execution_count": 46,
   "metadata": {},
   "outputs": [],
   "source": [
    "#sven.bergmann: This is tricky: Let's think of three groups: \n",
    "# (1) low BP/no HT, (2) low BP but HT (medication successful), (3) high BP/HT (medication unsuccessful). \n",
    "# From the BP-V_std_D anti correlation, it follows that (3) should have lower V_std_D than (1). \n",
    "# The only way I can see then to get a positive correlation between V_std_D and HT would be to have\n",
    "#  (2) have higher V_std_D than (1), and to be bigger than (3). So medication would \"overcompensate\".\n",
    "\n",
    "#Could you plot box diagrams of V_std_D for the three groups to test this? (low BP would be DBP<80 and SBP<120, and high BP is DBP>90 or SBP>130).\n",
    "\n",
    "\n",
    "# Extract SBP and DBP values from the dataframe\n",
    "SBP = df_pheno_dise['SBP_both']\n",
    "DBP = df_pheno_dise['DBP_both']\n",
    "V_std_D = df_pheno_dise['D_V_std']\n",
    "\n",
    "# Filter for SBP below 120\n",
    "#df_pheno_dise['SBP_both_lower_120'] = np.where(SBP < 120, SBP, np.nan)\n",
    "\n",
    "# Filter for SBP above 130\n",
    "#df_pheno_dise['SBP_both_higher_130'] = np.where(SBP > 130, SBP, np.nan)\n",
    "\n",
    "# Filter for DBP below 80\n",
    "#df_pheno_dise['DBP_both_lower_80'] = np.where(DBP < 80, DBP, np.nan)\n",
    "\n",
    "# Filter for DBP below 90\n",
    "#df_pheno_dise['DBP_both_lower_90'] = np.where(DBP < 90, DBP, np.nan)\n",
    "\n",
    "# Define the criteria for low and high blood pressure\n",
    "low_BP_criteria = (DBP < 80) & (SBP < 120)\n",
    "high_BP_criteria = (DBP > 90) | (SBP > 130)\n",
    "\n",
    "# Create dataframes for the three groups\n",
    "low_BP_data = V_std_D[low_BP_criteria].dropna()\n",
    "normal_BP_data = V_std_D[~low_BP_criteria & ~high_BP_criteria].dropna()\n",
    "high_BP_data = V_std_D[high_BP_criteria].dropna()\n",
    "\n",
    "\n",
    "# Prepare data for plotting\n",
    "data = [low_BP_data, normal_BP_data, high_BP_data]\n",
    "labels = ['Low BP', 'Normal BP', 'High BP']\n"
   ]
  },
  {
   "cell_type": "code",
   "execution_count": 32,
   "metadata": {},
   "outputs": [
    {
     "data": {
      "image/png": "[encoded data removed]",
      "text/plain": [
       "<Figure size 432x288 with 1 Axes>"
      ]
     },
     "metadata": {
      "needs_background": "light"
     },
     "output_type": "display_data"
    }
   ],
   "source": [
    "# Plot box plots for the three groups\n",
    "plt.boxplot(data, labels=labels)\n",
    "plt.xlabel('Blood Pressure Groups')\n",
    "plt.ylabel('V_std_D')\n",
    "plt.title('Box Plot of V_std_D for Blood Pressure Groups')\n",
    "plt.show()"
   ]
  },
  {
   "cell_type": "code",
   "execution_count": 36,
   "metadata": {},
   "outputs": [
    {
     "data": {
      "image/png": "[encoded data removed]",
      "text/plain": [
       "<Figure size 432x288 with 1 Axes>"
      ]
     },
     "metadata": {
      "needs_background": "light"
     },
     "output_type": "display_data"
    }
   ],
   "source": [
    "from scipy.stats import kruskal\n",
    "\n",
    "# Perform Kruskal-Wallis test\n",
    "statistic, p_value = kruskal(low_BP_data, normal_BP_data, high_BP_data)\n",
    "\n",
    "# Prepare data for plotting\n",
    "data = [low_BP_data, normal_BP_data, high_BP_data]\n",
    "labels = ['Low BP', 'Normal BP', 'High BP']\n",
    "\n",
    "# Plot box plots for the non-empty groups\n",
    "plt.boxplot(data, labels=labels)\n",
    "plt.xlabel('Blood Pressure Groups')\n",
    "plt.ylabel('V_std_D')\n",
    "plt.title('Box Plot of V_std_D for Blood Pressure Groups')\n",
    "\n",
    "# Display the p-value\n",
    "plt.text(1.05, 0.5, f'p-value: {p_value:}', transform=plt.gca().transAxes)\n",
    "\n",
    "plt.show()"
   ]
  },
  {
   "cell_type": "code",
   "execution_count": 45,
   "metadata": {},
   "outputs": [
    {
     "name": "stdout",
     "output_type": "stream",
     "text": [
      "sample_sizes [10150, 673, 14545, 27544]\n"
     ]
    },
    {
     "data": {
      "image/png": "[encoded data removed]",
      "text/plain": [
       "<Figure size 720x432 with 1 Axes>"
      ]
     },
     "metadata": {
      "needs_background": "light"
     },
     "output_type": "display_data"
    }
   ],
   "source": [
    "SBP = df_pheno_dise['SBP_both']\n",
    "DBP = df_pheno_dise['DBP_both']\n",
    "V_std_D = df_pheno_dise['D_V_std']\n",
    "age_high_BP = df_pheno_dise['age_high_BP_both']\n",
    "\n",
    "# Define the criteria for low and high blood pressure\n",
    "low_BP_criteria = (DBP < 80) & (SBP < 120)\n",
    "high_BP_criteria = (DBP > 90) | (SBP > 130)\n",
    "\n",
    "# Create dataframes for the four groups\n",
    "low_BP_data_healthy = V_std_D[low_BP_criteria & (age_high_BP == 0)].dropna()\n",
    "low_BP_data_hypertense = V_std_D[low_BP_criteria & (age_high_BP == 1)].dropna()\n",
    "high_BP_data_hypertense = V_std_D[high_BP_criteria & (age_high_BP == 1)].dropna()\n",
    "high_BP_data_healthy = V_std_D[high_BP_criteria & (age_high_BP == 0)].dropna()\n",
    "\n",
    "# Prepare data for plotting\n",
    "data = [low_BP_data_healthy, low_BP_data_hypertense, high_BP_data_hypertense, high_BP_data_healthy]\n",
    "labels = ['Low BP (Healthy)', 'Low BP (Hypertensive)', 'High BP (Hypertensive)', 'High BP (Healthy)']\n",
    "sample_sizes = [len(low_BP_data_healthy), len(low_BP_data_hypertense), len(high_BP_data_hypertense), len(high_BP_data_healthy)]\n",
    "\n",
    "print('sample_sizes', sample_sizes)\n",
    "\n",
    "plt.figure(figsize=(10, 6))\n",
    "plt.boxplot(data, labels=labels)\n",
    "plt.xlabel('Blood Pressure Groups')\n",
    "plt.ylabel('V_std_D')\n",
    "plt.title('Box Plot of V_std_D for Blood Pressure Groups')\n",
    "plt.show()\n"
   ]
  },
  {
   "cell_type": "code",
   "execution_count": null,
   "metadata": {},
   "outputs": [],
   "source": []
  }
 ],
 "metadata": {
  "interpreter": {
   "hash": "31f2aee4e71d21fbe5cf8b01ff0e069b9275f58929596ceb00d14d90e3e16cd6"
  },
  "kernelspec": {
   "display_name": "Python 3.8.2 64-bit",
   "name": "python3"
  },
  "language_info": {
   "codemirror_mode": {
    "name": "ipython",
    "version": 3
   },
   "file_extension": ".py",
   "mimetype": "text/x-python",
   "name": "python",
   "nbconvert_exporter": "python",
   "pygments_lexer": "ipython3",
   "version": "3.6.9"
  }
 },
 "nbformat": 4,
 "nbformat_minor": 4
}
