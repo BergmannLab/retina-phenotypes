{
 "cells": [
  {
   "cell_type": "code",
   "execution_count": 1,
   "metadata": {},
   "outputs": [],
   "source": [
    "%load_ext autoreload\n",
    "%autoreload 2"
   ]
  },
  {
   "cell_type": "code",
   "execution_count": 2,
   "metadata": {},
   "outputs": [],
   "source": [
    "import os\n",
    "#import warnings\n",
    "#warnings.simplefilter('ignore')\n",
    "from operator import attrgetter\n",
    "from platform import python_version_tuple\n",
    "\n",
    "if python_version_tuple()[0] == 3:\n",
    "    xrange = range\n",
    "\n",
    "import scipy as sp\n",
    "import scipy.ndimage\n",
    "import numpy as np\n",
    "import pandas as pd\n",
    "import skimage\n",
    "import skimage.measure\n",
    "from PIL import Image\n",
    "import matplotlib.pyplot as plt\n",
    "%matplotlib inline\n",
    "import cv2\n",
    "import h5py\n",
    "from tqdm import tqdm_notebook\n",
    "from IPython.display import display\n",
    "from extract_data import *"
   ]
  },
  {
   "cell_type": "code",
   "execution_count": 3,
   "metadata": {},
   "outputs": [
    {
     "name": "stdout",
     "output_type": "stream",
     "text": [
      "count of image files nfiles=173814\n"
     ]
    }
   ],
   "source": [
    "# storing test set\n",
    "\n",
    "import sys\n",
    "import glob\n",
    "import h5py\n",
    "import cv2\n",
    "\n",
    "datapath = '/NVME/scratch/od_ukbb/' # where to store output. h5f requires absolute path\n",
    "rawdir = \"/NVME/decrypted/ukbb/fundus/raw/CLRIS/\"\n",
    "nfiles = len(glob.glob(rawdir+'*.png'))\n",
    "print(f'count of image files nfiles={nfiles}')"
   ]
  },
  {
   "cell_type": "code",
   "execution_count": 4,
   "metadata": {},
   "outputs": [],
   "source": [
    "# batch prep\n",
    "\n",
    "n_cpus = int(50)\n",
    "batch_len = int(np.ceil(nfiles/n_cpus))\n",
    "\n",
    "batches = [(i+1,0+i*batch_len,min((i+1)*batch_len,nfiles-1)) for i in range(0,n_cpus)]"
   ]
  },
  {
   "cell_type": "code",
   "execution_count": 5,
   "metadata": {},
   "outputs": [],
   "source": [
    "# generate UKBB full dataset\n",
    "\n",
    "\n",
    "# resize all images and load into a single dataset\n",
    "\n",
    "import time\n",
    "\n",
    "def generate_batch(variables):\n",
    "    \n",
    "    start = time.time()\n",
    "    \n",
    "    batch_no,start,stop = variables\n",
    "    \n",
    "    h5file = datapath + '/resized_256px_batch'+str(batch_no)+'.hdf5'\n",
    "\n",
    "    IMG_WIDTH = 256\n",
    "    IMG_HEIGHT = 256\n",
    "\n",
    "    with h5py.File(h5file,'w') as  h5f:\n",
    "        \n",
    "        batch_files = sorted(glob.iglob(rawdir + \"*.png\"))[start:stop]\n",
    "        h5f.create_dataset(\"filenames\", data=np.array(batch_files, dtype='S'))\n",
    "        img_ds = h5f.create_dataset('raw_256px',shape=(stop-start, 256, 256,3), dtype=int)\n",
    "        for cnt, ifile in enumerate(batch_files) :\n",
    "\n",
    "            # if cnt % 1000 == 0:\n",
    "            #     print(cnt)\n",
    "\n",
    "            img = cv2.imread(ifile, cv2.IMREAD_COLOR)\n",
    "#             print(img.shape)\n",
    "            img = cv2.cvtColor(img, cv2.COLOR_RGB2BGR) # cv2 uses BGR, we would like RGB, I technically used the inverse function, but I believe it ends up the same as BGR and RGB are point symmetrical\n",
    "\n",
    "            hh,ww=img.shape[0:2]\n",
    "            diff = ww-hh\n",
    "            if diff > 0:\n",
    "                rm_left = np.floor(diff/2).astype(int)\n",
    "                rm_right = np.ceil(diff/2).astype(int)\n",
    "                rm_top = 0\n",
    "                rm_bottom = 0\n",
    "                \n",
    "                im_sq=img[:,rm_left:-rm_right]\n",
    "            else:\n",
    "                rm_top = np.floor(np.abs(diff)/2).astype(int)\n",
    "                rm_bottom = np.ceil(np.abs(diff)/2).astype(int)\n",
    "                rm_left = 0\n",
    "                rm_right = 0\n",
    "                im_sq=img[rm_top:-rm_bottom]\n",
    "\n",
    "            \n",
    "            # making square\n",
    "#             print(im_sq.shape)\n",
    "\n",
    "            # or use cv2.IMREAD_GRAYSCALE, cv2.IMREAD_UNCHANGED\n",
    "            img_resize = cv2.resize( im_sq, (IMG_WIDTH, IMG_HEIGHT) )\n",
    "                        \n",
    "            if cnt==0:\n",
    "                import pickle\n",
    "                with open(datapath + 'resize_params.pkl', 'wb') as f:\n",
    "                    pickle.dump({'rm_left':rm_left, 'rm_right':rm_right, 'rm_top':rm_top, 'rm_bottom':rm_bottom, 'imsq_orig':im_sq.shape[0], 'imsq_resized':img_resize.shape[0]}, f)\n",
    "            \n",
    "            img_ds[cnt:cnt+1:,:,:] = img_resize\n",
    "            \n",
    "#             plt.figure()\n",
    "#             plt.imshow(img)\n",
    "#             plt.figure()\n",
    "#             plt.imshow(im_sq)\n",
    "            \n",
    "    return (time.time() - start) / 60.0"
   ]
  },
  {
   "cell_type": "code",
   "execution_count": 6,
   "metadata": {},
   "outputs": [],
   "source": [
    "# ukb generation in parallel\n",
    "\n",
    "from multiprocessing import Pool\n",
    "\n",
    "pool = Pool()\n",
    "times = pool.map(generate_batch, batches)"
   ]
  }
 ],
 "metadata": {
  "kernelspec": {
   "display_name": "Python 3 (ipykernel)",
   "language": "python",
   "name": "python3"
  },
  "language_info": {
   "codemirror_mode": {
    "name": "ipython",
    "version": 3
   },
   "file_extension": ".py",
   "mimetype": "text/x-python",
   "name": "python",
   "nbconvert_exporter": "python",
   "pygments_lexer": "ipython3",
   "version": "3.8.0"
  },
  "widgets": {
   "state": {
    "082df2d6c9d04122bbc13e511ced546b": {
     "views": [
      {
       "cell_index": 64
      }
     ]
    },
    "1076bc62bc6449c99f6046e949e66797": {
     "views": [
      {
       "cell_index": 64
      }
     ]
    },
    "358b9ed5aecb499f9de7304bd4314691": {
     "views": [
      {
       "cell_index": 64
      }
     ]
    },
    "45aef25e0edd4c8d87c7ea3915265b7a": {
     "views": [
      {
       "cell_index": 63
      }
     ]
    },
    "810a9b2badf34cd9a7555a13e628e84a": {
     "views": [
      {
       "cell_index": 63
      }
     ]
    },
    "949491e0c3ac4d1d9b22d853c71c843f": {
     "views": [
      {
       "cell_index": 63
      }
     ]
    }
   },
   "version": "1.2.0"
  }
 },
 "nbformat": 4,
 "nbformat_minor": 4
}
